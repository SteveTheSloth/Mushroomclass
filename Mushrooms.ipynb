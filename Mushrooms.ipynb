{
  "nbformat": 4,
  "nbformat_minor": 0,
  "metadata": {
    "colab": {
      "name": "Untitled1.ipynb",
      "provenance": [],
      "authorship_tag": "ABX9TyNb2ySkkHAk5mwojb/KUGlr",
      "include_colab_link": true
    },
    "kernelspec": {
      "name": "python3",
      "display_name": "Python 3"
    },
    "language_info": {
      "name": "python"
    },
    "widgets": {
      "application/vnd.jupyter.widget-state+json": {
        "d642639f3bfb47c8aa9dfa09b59b6996": {
          "model_module": "@jupyter-widgets/controls",
          "model_name": "FileUploadModel",
          "model_module_version": "1.5.0",
          "state": {
            "_counter": 1,
            "_dom_classes": [],
            "_model_module": "@jupyter-widgets/controls",
            "_model_module_version": "1.5.0",
            "_model_name": "FileUploadModel",
            "_view_count": null,
            "_view_module": "@jupyter-widgets/controls",
            "_view_module_version": "1.5.0",
            "_view_name": "FileUploadView",
            "accept": "",
            "button_style": "",
            "data": [
              null
            ],
            "description": "Upload",
            "description_tooltip": null,
            "disabled": false,
            "error": "",
            "icon": "upload",
            "layout": "IPY_MODEL_0af6e84891554675b7eebc0dc0a5970c",
            "metadata": [
              {
                "name": "81oJzAn8iZL._AC_SL1500_.jpg",
                "type": "image/jpeg",
                "size": 151393,
                "lastModified": 1660466572434
              }
            ],
            "multiple": false,
            "style": "IPY_MODEL_0e978f9edde344e79123713ac58f7ef6"
          }
        },
        "0af6e84891554675b7eebc0dc0a5970c": {
          "model_module": "@jupyter-widgets/base",
          "model_name": "LayoutModel",
          "model_module_version": "1.2.0",
          "state": {
            "_model_module": "@jupyter-widgets/base",
            "_model_module_version": "1.2.0",
            "_model_name": "LayoutModel",
            "_view_count": null,
            "_view_module": "@jupyter-widgets/base",
            "_view_module_version": "1.2.0",
            "_view_name": "LayoutView",
            "align_content": null,
            "align_items": null,
            "align_self": null,
            "border": null,
            "bottom": null,
            "display": null,
            "flex": null,
            "flex_flow": null,
            "grid_area": null,
            "grid_auto_columns": null,
            "grid_auto_flow": null,
            "grid_auto_rows": null,
            "grid_column": null,
            "grid_gap": null,
            "grid_row": null,
            "grid_template_areas": null,
            "grid_template_columns": null,
            "grid_template_rows": null,
            "height": null,
            "justify_content": null,
            "justify_items": null,
            "left": null,
            "margin": null,
            "max_height": null,
            "max_width": null,
            "min_height": null,
            "min_width": null,
            "object_fit": null,
            "object_position": null,
            "order": null,
            "overflow": null,
            "overflow_x": null,
            "overflow_y": null,
            "padding": null,
            "right": null,
            "top": null,
            "visibility": null,
            "width": null
          }
        },
        "0e978f9edde344e79123713ac58f7ef6": {
          "model_module": "@jupyter-widgets/controls",
          "model_name": "ButtonStyleModel",
          "model_module_version": "1.5.0",
          "state": {
            "_model_module": "@jupyter-widgets/controls",
            "_model_module_version": "1.5.0",
            "_model_name": "ButtonStyleModel",
            "_view_count": null,
            "_view_module": "@jupyter-widgets/base",
            "_view_module_version": "1.2.0",
            "_view_name": "StyleView",
            "button_color": null,
            "font_weight": ""
          }
        },
        "b1147c440c74465eb1e2980da08e15c4": {
          "model_module": "@jupyter-widgets/output",
          "model_name": "OutputModel",
          "model_module_version": "1.0.0",
          "state": {
            "_dom_classes": [],
            "_model_module": "@jupyter-widgets/output",
            "_model_module_version": "1.0.0",
            "_model_name": "OutputModel",
            "_view_count": null,
            "_view_module": "@jupyter-widgets/output",
            "_view_module_version": "1.0.0",
            "_view_name": "OutputView",
            "layout": "IPY_MODEL_8473cf68a9cf4d1aab788213a496dd25",
            "msg_id": "",
            "outputs": [
              {
                "output_type": "display_data",
                "data": {
                  "text/plain": "<PIL.Image.Image image mode=RGB size=128x76>",
                  "image/png": "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\n"
                },
                "metadata": {}
              }
            ]
          }
        },
        "8473cf68a9cf4d1aab788213a496dd25": {
          "model_module": "@jupyter-widgets/base",
          "model_name": "LayoutModel",
          "model_module_version": "1.2.0",
          "state": {
            "_model_module": "@jupyter-widgets/base",
            "_model_module_version": "1.2.0",
            "_model_name": "LayoutModel",
            "_view_count": null,
            "_view_module": "@jupyter-widgets/base",
            "_view_module_version": "1.2.0",
            "_view_name": "LayoutView",
            "align_content": null,
            "align_items": null,
            "align_self": null,
            "border": null,
            "bottom": null,
            "display": null,
            "flex": null,
            "flex_flow": null,
            "grid_area": null,
            "grid_auto_columns": null,
            "grid_auto_flow": null,
            "grid_auto_rows": null,
            "grid_column": null,
            "grid_gap": null,
            "grid_row": null,
            "grid_template_areas": null,
            "grid_template_columns": null,
            "grid_template_rows": null,
            "height": null,
            "justify_content": null,
            "justify_items": null,
            "left": null,
            "margin": null,
            "max_height": null,
            "max_width": null,
            "min_height": null,
            "min_width": null,
            "object_fit": null,
            "object_position": null,
            "order": null,
            "overflow": null,
            "overflow_x": null,
            "overflow_y": null,
            "padding": null,
            "right": null,
            "top": null,
            "visibility": null,
            "width": null
          }
        },
        "90ed92be0fa047f693aaa8014133b2b9": {
          "model_module": "@jupyter-widgets/controls",
          "model_name": "LabelModel",
          "model_module_version": "1.5.0",
          "state": {
            "_dom_classes": [],
            "_model_module": "@jupyter-widgets/controls",
            "_model_module_version": "1.5.0",
            "_model_name": "LabelModel",
            "_view_count": null,
            "_view_module": "@jupyter-widgets/controls",
            "_view_module_version": "1.5.0",
            "_view_name": "LabelView",
            "description": "",
            "description_tooltip": null,
            "layout": "IPY_MODEL_b26ca3f4e8a541b3a3e039ad6ff81ddb",
            "placeholder": "​",
            "style": "IPY_MODEL_82e94d0089cb496b94f0f79b61285901",
            "value": "Prediction: Lactarius; Probability: 0.7392"
          }
        },
        "b26ca3f4e8a541b3a3e039ad6ff81ddb": {
          "model_module": "@jupyter-widgets/base",
          "model_name": "LayoutModel",
          "model_module_version": "1.2.0",
          "state": {
            "_model_module": "@jupyter-widgets/base",
            "_model_module_version": "1.2.0",
            "_model_name": "LayoutModel",
            "_view_count": null,
            "_view_module": "@jupyter-widgets/base",
            "_view_module_version": "1.2.0",
            "_view_name": "LayoutView",
            "align_content": null,
            "align_items": null,
            "align_self": null,
            "border": null,
            "bottom": null,
            "display": null,
            "flex": null,
            "flex_flow": null,
            "grid_area": null,
            "grid_auto_columns": null,
            "grid_auto_flow": null,
            "grid_auto_rows": null,
            "grid_column": null,
            "grid_gap": null,
            "grid_row": null,
            "grid_template_areas": null,
            "grid_template_columns": null,
            "grid_template_rows": null,
            "height": null,
            "justify_content": null,
            "justify_items": null,
            "left": null,
            "margin": null,
            "max_height": null,
            "max_width": null,
            "min_height": null,
            "min_width": null,
            "object_fit": null,
            "object_position": null,
            "order": null,
            "overflow": null,
            "overflow_x": null,
            "overflow_y": null,
            "padding": null,
            "right": null,
            "top": null,
            "visibility": null,
            "width": null
          }
        },
        "82e94d0089cb496b94f0f79b61285901": {
          "model_module": "@jupyter-widgets/controls",
          "model_name": "DescriptionStyleModel",
          "model_module_version": "1.5.0",
          "state": {
            "_model_module": "@jupyter-widgets/controls",
            "_model_module_version": "1.5.0",
            "_model_name": "DescriptionStyleModel",
            "_view_count": null,
            "_view_module": "@jupyter-widgets/base",
            "_view_module_version": "1.2.0",
            "_view_name": "StyleView",
            "description_width": ""
          }
        },
        "6fc57961a2784a5b8c14c3af5fcea96d": {
          "model_module": "@jupyter-widgets/controls",
          "model_name": "ButtonModel",
          "model_module_version": "1.5.0",
          "state": {
            "_dom_classes": [],
            "_model_module": "@jupyter-widgets/controls",
            "_model_module_version": "1.5.0",
            "_model_name": "ButtonModel",
            "_view_count": null,
            "_view_module": "@jupyter-widgets/controls",
            "_view_module_version": "1.5.0",
            "_view_name": "ButtonView",
            "button_style": "",
            "description": "Classify",
            "disabled": false,
            "icon": "",
            "layout": "IPY_MODEL_fbbf2f7e5d324482a80c06b9b286d651",
            "style": "IPY_MODEL_7d70692870924e03ba759e70ba1ea021",
            "tooltip": ""
          }
        },
        "fbbf2f7e5d324482a80c06b9b286d651": {
          "model_module": "@jupyter-widgets/base",
          "model_name": "LayoutModel",
          "model_module_version": "1.2.0",
          "state": {
            "_model_module": "@jupyter-widgets/base",
            "_model_module_version": "1.2.0",
            "_model_name": "LayoutModel",
            "_view_count": null,
            "_view_module": "@jupyter-widgets/base",
            "_view_module_version": "1.2.0",
            "_view_name": "LayoutView",
            "align_content": null,
            "align_items": null,
            "align_self": null,
            "border": null,
            "bottom": null,
            "display": null,
            "flex": null,
            "flex_flow": null,
            "grid_area": null,
            "grid_auto_columns": null,
            "grid_auto_flow": null,
            "grid_auto_rows": null,
            "grid_column": null,
            "grid_gap": null,
            "grid_row": null,
            "grid_template_areas": null,
            "grid_template_columns": null,
            "grid_template_rows": null,
            "height": null,
            "justify_content": null,
            "justify_items": null,
            "left": null,
            "margin": null,
            "max_height": null,
            "max_width": null,
            "min_height": null,
            "min_width": null,
            "object_fit": null,
            "object_position": null,
            "order": null,
            "overflow": null,
            "overflow_x": null,
            "overflow_y": null,
            "padding": null,
            "right": null,
            "top": null,
            "visibility": null,
            "width": null
          }
        },
        "7d70692870924e03ba759e70ba1ea021": {
          "model_module": "@jupyter-widgets/controls",
          "model_name": "ButtonStyleModel",
          "model_module_version": "1.5.0",
          "state": {
            "_model_module": "@jupyter-widgets/controls",
            "_model_module_version": "1.5.0",
            "_model_name": "ButtonStyleModel",
            "_view_count": null,
            "_view_module": "@jupyter-widgets/base",
            "_view_module_version": "1.2.0",
            "_view_name": "StyleView",
            "button_color": null,
            "font_weight": ""
          }
        }
      }
    }
  },
  "cells": [
    {
      "cell_type": "markdown",
      "metadata": {
        "id": "view-in-github",
        "colab_type": "text"
      },
      "source": [
        "<a href=\"https://colab.research.google.com/github/SteveTheSloth/Mushroomclass/blob/main/Mushrooms.ipynb\" target=\"_parent\"><img src=\"https://colab.research.google.com/assets/colab-badge.svg\" alt=\"Open In Colab\"/></a>"
      ]
    },
    {
      "cell_type": "markdown",
      "source": [
        "# Mushroom Classifier"
      ],
      "metadata": {
        "id": "r_v-exiKOab7"
      }
    },
    {
      "cell_type": "code",
      "source": [
        "pip install folium==0.2.1"
      ],
      "metadata": {
        "colab": {
          "base_uri": "https://localhost:8080/"
        },
        "id": "WXl05fbkOeHZ",
        "outputId": "f9e5718a-c105-45c3-a2fb-d643f1d4c87c"
      },
      "execution_count": 30,
      "outputs": [
        {
          "output_type": "stream",
          "name": "stdout",
          "text": [
            "Looking in indexes: https://pypi.org/simple, https://us-python.pkg.dev/colab-wheels/public/simple/\n",
            "Requirement already satisfied: folium==0.2.1 in /usr/local/lib/python3.7/dist-packages (0.2.1)\n",
            "Requirement already satisfied: Jinja2 in /usr/local/lib/python3.7/dist-packages (from folium==0.2.1) (3.1.2)\n",
            "Requirement already satisfied: MarkupSafe>=2.0 in /usr/local/lib/python3.7/dist-packages (from Jinja2->folium==0.2.1) (2.0.1)\n"
          ]
        }
      ]
    },
    {
      "cell_type": "code",
      "source": [
        "! [ -e /content ] && pip install -Uqq fastbook\n",
        "import fastbook\n",
        "fastbook.setup_book()"
      ],
      "metadata": {
        "id": "pZtRFQNXO4I_"
      },
      "execution_count": 31,
      "outputs": []
    },
    {
      "cell_type": "code",
      "source": [
        "from fastbook import *"
      ],
      "metadata": {
        "id": "WgC6BA7WO4zB"
      },
      "execution_count": 32,
      "outputs": []
    },
    {
      "cell_type": "code",
      "source": [
        "from ipywidgets import *"
      ],
      "metadata": {
        "id": "c93bmga6jB_w"
      },
      "execution_count": 33,
      "outputs": []
    },
    {
      "cell_type": "code",
      "source": [
        "path = Path()"
      ],
      "metadata": {
        "id": "3nsdOv_BPpeV"
      },
      "execution_count": 34,
      "outputs": []
    },
    {
      "cell_type": "code",
      "source": [
        "path = Path(\"/content/gdrive/MyDrive/\")\n",
        "path.ls(file_exts='.pkl')"
      ],
      "metadata": {
        "colab": {
          "base_uri": "https://localhost:8080/"
        },
        "id": "JFfycNC45kQh",
        "outputId": "2f050961-e0e5-4278-e421-40577dd5e02a"
      },
      "execution_count": 35,
      "outputs": [
        {
          "output_type": "execute_result",
          "data": {
            "text/plain": [
              "(#1) [Path('/content/gdrive/MyDrive/mushroom_class_8epoch.pkl')]"
            ]
          },
          "metadata": {},
          "execution_count": 35
        }
      ]
    },
    {
      "cell_type": "code",
      "source": [
        "learn_inf = load_learner(path/\"mushroom_class_8epoch.pkl\")"
      ],
      "metadata": {
        "id": "ZNMIsfqiPPoN"
      },
      "execution_count": 36,
      "outputs": []
    },
    {
      "cell_type": "code",
      "source": [
        "btn_upload = widgets.FileUpload()\n",
        "btn_upload"
      ],
      "metadata": {
        "colab": {
          "base_uri": "https://localhost:8080/",
          "height": 49,
          "referenced_widgets": [
            "d642639f3bfb47c8aa9dfa09b59b6996",
            "0af6e84891554675b7eebc0dc0a5970c",
            "0e978f9edde344e79123713ac58f7ef6"
          ]
        },
        "id": "sFZHYbw-gDc3",
        "outputId": "50cd2f33-ac65-41d1-c1ab-d067f9ad430b"
      },
      "execution_count": 28,
      "outputs": [
        {
          "output_type": "display_data",
          "data": {
            "text/plain": [
              "FileUpload(value={}, description='Upload')"
            ],
            "application/vnd.jupyter.widget-view+json": {
              "version_major": 2,
              "version_minor": 0,
              "model_id": "d642639f3bfb47c8aa9dfa09b59b6996"
            }
          },
          "metadata": {}
        }
      ]
    },
    {
      "cell_type": "code",
      "source": [
        "img = PILImage.create(btn_upload.data[-1])"
      ],
      "metadata": {
        "id": "gdgEYHVmhd6E"
      },
      "execution_count": 37,
      "outputs": []
    },
    {
      "cell_type": "code",
      "source": [
        "out_pl = widgets.Output()\n",
        "out_pl.clear_output()\n",
        "with out_pl: display(img.to_thumb(128,128))\n",
        "out_pl"
      ],
      "metadata": {
        "colab": {
          "base_uri": "https://localhost:8080/",
          "height": 93,
          "referenced_widgets": [
            "b1147c440c74465eb1e2980da08e15c4",
            "8473cf68a9cf4d1aab788213a496dd25"
          ]
        },
        "id": "MZJdN9xjhXAV",
        "outputId": "3446dd1c-7309-47dd-bae0-31e7160ce88d"
      },
      "execution_count": 38,
      "outputs": [
        {
          "output_type": "display_data",
          "data": {
            "text/plain": [
              "Output()"
            ],
            "application/vnd.jupyter.widget-view+json": {
              "version_major": 2,
              "version_minor": 0,
              "model_id": "b1147c440c74465eb1e2980da08e15c4"
            }
          },
          "metadata": {}
        }
      ]
    },
    {
      "cell_type": "code",
      "source": [
        "pred,pred_idx,probs = learn_inf.predict(img)"
      ],
      "metadata": {
        "colab": {
          "base_uri": "https://localhost:8080/",
          "height": 17
        },
        "id": "WY-6oRhohjM0",
        "outputId": "fd906484-6e5b-439e-fc16-719d4fc95924"
      },
      "execution_count": 39,
      "outputs": [
        {
          "output_type": "display_data",
          "data": {
            "text/plain": [
              "<IPython.core.display.HTML object>"
            ],
            "text/html": [
              "\n",
              "<style>\n",
              "    /* Turns off some styling */\n",
              "    progress {\n",
              "        /* gets rid of default border in Firefox and Opera. */\n",
              "        border: none;\n",
              "        /* Needs to be in here for Safari polyfill so background images work as expected. */\n",
              "        background-size: auto;\n",
              "    }\n",
              "    progress:not([value]), progress:not([value])::-webkit-progress-bar {\n",
              "        background: repeating-linear-gradient(45deg, #7e7e7e, #7e7e7e 10px, #5c5c5c 10px, #5c5c5c 20px);\n",
              "    }\n",
              "    .progress-bar-interrupted, .progress-bar-interrupted::-webkit-progress-bar {\n",
              "        background: #F44336;\n",
              "    }\n",
              "</style>\n"
            ]
          },
          "metadata": {}
        },
        {
          "output_type": "display_data",
          "data": {
            "text/plain": [
              "<IPython.core.display.HTML object>"
            ],
            "text/html": [
              ""
            ]
          },
          "metadata": {}
        }
      ]
    },
    {
      "cell_type": "code",
      "source": [
        "lbl_pred = widgets.Label()\n",
        "lbl_pred.value = f'Prediction: {pred}; Probability: {probs[pred_idx]:.04f}'\n",
        "lbl_pred"
      ],
      "metadata": {
        "colab": {
          "base_uri": "https://localhost:8080/",
          "height": 49,
          "referenced_widgets": [
            "90ed92be0fa047f693aaa8014133b2b9",
            "b26ca3f4e8a541b3a3e039ad6ff81ddb",
            "82e94d0089cb496b94f0f79b61285901"
          ]
        },
        "id": "2OpCKmrshmRw",
        "outputId": "3eac1eaa-dca0-4786-e2c0-6fa928094db1"
      },
      "execution_count": 40,
      "outputs": [
        {
          "output_type": "display_data",
          "data": {
            "text/plain": [
              "Label(value='Prediction: Boletus; Probability: 0.9835')"
            ],
            "application/vnd.jupyter.widget-view+json": {
              "version_major": 2,
              "version_minor": 0,
              "model_id": "90ed92be0fa047f693aaa8014133b2b9"
            }
          },
          "metadata": {}
        }
      ]
    },
    {
      "cell_type": "code",
      "source": [
        "btn_run = widgets.Button(description='Classify')\n",
        "btn_run"
      ],
      "metadata": {
        "colab": {
          "base_uri": "https://localhost:8080/",
          "height": 49,
          "referenced_widgets": [
            "6fc57961a2784a5b8c14c3af5fcea96d",
            "fbbf2f7e5d324482a80c06b9b286d651",
            "7d70692870924e03ba759e70ba1ea021"
          ]
        },
        "id": "ju_6Y1kohmQH",
        "outputId": "d8a88262-7c97-4949-8a16-b8d799c6c38e"
      },
      "execution_count": 41,
      "outputs": [
        {
          "output_type": "display_data",
          "data": {
            "text/plain": [
              "Button(description='Classify', style=ButtonStyle())"
            ],
            "application/vnd.jupyter.widget-view+json": {
              "version_major": 2,
              "version_minor": 0,
              "model_id": "6fc57961a2784a5b8c14c3af5fcea96d"
            }
          },
          "metadata": {}
        }
      ]
    },
    {
      "cell_type": "code",
      "source": [
        "def on_click_classify(change):\n",
        "    img = PILImage.create(btn_upload.data[-1])\n",
        "    out_pl.clear_output()\n",
        "    with out_pl: display(img.to_thumb(128,128))\n",
        "    pred,pred_idx,probs = learn_inf.predict(img)\n",
        "    lbl_pred.value = f'Prediction: {pred}; Probability: {probs[pred_idx]:.04f}'\n",
        "\n",
        "btn_run.on_click(on_click_classify)"
      ],
      "metadata": {
        "id": "UwDEB7t9huBs"
      },
      "execution_count": 42,
      "outputs": []
    },
    {
      "cell_type": "code",
      "source": [
        "btn_upload = widgets.FileUpload()"
      ],
      "metadata": {
        "id": "Tz4M5S3nh0BJ"
      },
      "execution_count": 43,
      "outputs": []
    }
  ]
}